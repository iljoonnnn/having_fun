{
  "cells": [
    {
      "cell_type": "raw",
      "metadata": {},
      "source": [
        "---\n",
        "title: hw1\n",
        "---"
      ],
      "id": "be862e15"
    },
    {
      "cell_type": "markdown",
      "metadata": {},
      "source": [
        "### 84p\n"
      ],
      "id": "ae468c29"
    },
    {
      "cell_type": "code",
      "metadata": {},
      "source": [
        "import pandas as pd\n",
        "mydata = pd.DataFrame({'제품' : ['사과', '딸기', '수박'],\n",
        "          '가격' : [1800, 1500, 3000],\n",
        "          '판매량' : [24, 38, 13]})\n",
        "mydata"
      ],
      "id": "cc221b05",
      "execution_count": null,
      "outputs": []
    },
    {
      "cell_type": "code",
      "metadata": {},
      "source": [
        "price_mean = sum(mydata['가격'])/len(mydata)\n",
        "print('가격 평균=', price_mean)\n",
        "sales_mean = sum(mydata['판매량'])/len(mydata)\n",
        "print('판매량 평균=', sales_mean)"
      ],
      "id": "e7352d4c",
      "execution_count": null,
      "outputs": []
    },
    {
      "cell_type": "markdown",
      "metadata": {},
      "source": [
        "### 115p\n"
      ],
      "id": "d3620529"
    },
    {
      "cell_type": "code",
      "metadata": {},
      "source": [
        "raw_data = pd.read_csv('../../data/mpg.csv')\n",
        "raw_data.head()"
      ],
      "id": "e6c9e037",
      "execution_count": null,
      "outputs": []
    },
    {
      "cell_type": "code",
      "metadata": {},
      "source": [
        "new_data = raw_data.copy()\n",
        "new_data = new_data.rename(columns = {'cty': 'city'})\n",
        "new_data = new_data.rename(columns = {'hwy': 'hightway'})\n",
        "new_data.head()"
      ],
      "id": "fe8f5916",
      "execution_count": null,
      "outputs": []
    },
    {
      "cell_type": "markdown",
      "metadata": {},
      "source": [
        "### 130p\n"
      ],
      "id": "9690fa45"
    },
    {
      "cell_type": "code",
      "metadata": {},
      "source": [
        "raw_midwest = pd.read_csv('data/midwest.csv')\n",
        "raw_midwest.head()\n",
        "raw_midwest.tail()\n",
        "raw_midwest.shape\n",
        "raw_midwest.info()\n",
        "raw_midwest.describe()"
      ],
      "id": "8e352539",
      "execution_count": null,
      "outputs": []
    },
    {
      "cell_type": "code",
      "metadata": {},
      "source": [
        "new_midwest = raw_midwest.copy()\n",
        "new_midwest = new_midwest.rename(columns = {'poptotal' : 'total'})\n",
        "new_midwest = new_midwest.rename(columns = {'popasian' : 'asian'})\n",
        "new_midwest.head()"
      ],
      "id": "1c7b6d7c",
      "execution_count": null,
      "outputs": []
    },
    {
      "cell_type": "code",
      "metadata": {},
      "source": [
        "import matplotlib.pyplot as plt\n",
        "plt.clf()\n",
        "new_midwest['asian_total'] = new_midwest['asian'] / new_midwest['total'] * 100\n",
        "new_midwest['asian_total'].plot.hist(rot=0)\n",
        "plt.show()"
      ],
      "id": "87542fea",
      "execution_count": null,
      "outputs": []
    },
    {
      "cell_type": "code",
      "metadata": {},
      "source": [
        "import numpy as np\n",
        "asian_total_mean = sum(new_midwest['asian_total']) / len(new_midwest)\n",
        "new_midwest['grade'] = np.where(new_midwest['asian_total']>asian_total_mean, 'large', 'small')"
      ],
      "id": "2f4451a1",
      "execution_count": null,
      "outputs": []
    },
    {
      "cell_type": "code",
      "metadata": {},
      "source": [
        "my_series = new_midwest['grade'].value_counts()\n",
        "plt.clf()\n",
        "my_series.plot.bar(rot=0)\n",
        "plt.show()"
      ],
      "id": "d9718cd7",
      "execution_count": null,
      "outputs": []
    }
  ],
  "metadata": {
    "kernelspec": {
      "name": "python3",
      "language": "python",
      "display_name": "Python 3 (ipykernel)"
    }
  },
  "nbformat": 4,
  "nbformat_minor": 5
}